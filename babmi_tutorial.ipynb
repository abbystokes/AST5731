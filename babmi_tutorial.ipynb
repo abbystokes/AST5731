{
 "cells": [
  {
   "cell_type": "code",
   "execution_count": 1,
   "metadata": {},
   "outputs": [
    {
     "data": {
      "text/html": [
       "<div>\n",
       "<style scoped>\n",
       "    .dataframe tbody tr th:only-of-type {\n",
       "        vertical-align: middle;\n",
       "    }\n",
       "\n",
       "    .dataframe tbody tr th {\n",
       "        vertical-align: top;\n",
       "    }\n",
       "\n",
       "    .dataframe thead th {\n",
       "        text-align: right;\n",
       "    }\n",
       "</style>\n",
       "<table border=\"1\" class=\"dataframe\">\n",
       "  <thead>\n",
       "    <tr style=\"text-align: right;\">\n",
       "      <th></th>\n",
       "      <th>sepal-length</th>\n",
       "      <th>sepal-width</th>\n",
       "      <th>length</th>\n",
       "      <th>width</th>\n",
       "      <th>outcome</th>\n",
       "    </tr>\n",
       "  </thead>\n",
       "  <tbody>\n",
       "    <tr>\n",
       "      <th>0</th>\n",
       "      <td>5.1</td>\n",
       "      <td>3.5</td>\n",
       "      <td>1.4</td>\n",
       "      <td>0.2</td>\n",
       "      <td>Iris-setosa</td>\n",
       "    </tr>\n",
       "    <tr>\n",
       "      <th>1</th>\n",
       "      <td>4.9</td>\n",
       "      <td>3.0</td>\n",
       "      <td>1.4</td>\n",
       "      <td>0.2</td>\n",
       "      <td>Iris-setosa</td>\n",
       "    </tr>\n",
       "    <tr>\n",
       "      <th>2</th>\n",
       "      <td>4.7</td>\n",
       "      <td>3.2</td>\n",
       "      <td>1.3</td>\n",
       "      <td>0.2</td>\n",
       "      <td>Iris-setosa</td>\n",
       "    </tr>\n",
       "    <tr>\n",
       "      <th>3</th>\n",
       "      <td>4.6</td>\n",
       "      <td>3.1</td>\n",
       "      <td>1.5</td>\n",
       "      <td>0.2</td>\n",
       "      <td>Iris-setosa</td>\n",
       "    </tr>\n",
       "    <tr>\n",
       "      <th>4</th>\n",
       "      <td>5.0</td>\n",
       "      <td>3.6</td>\n",
       "      <td>1.4</td>\n",
       "      <td>0.2</td>\n",
       "      <td>Iris-setosa</td>\n",
       "    </tr>\n",
       "    <tr>\n",
       "      <th>5</th>\n",
       "      <td>5.4</td>\n",
       "      <td>3.9</td>\n",
       "      <td>1.7</td>\n",
       "      <td>0.4</td>\n",
       "      <td>Iris-setosa</td>\n",
       "    </tr>\n",
       "    <tr>\n",
       "      <th>6</th>\n",
       "      <td>4.6</td>\n",
       "      <td>3.4</td>\n",
       "      <td>1.4</td>\n",
       "      <td>0.3</td>\n",
       "      <td>Iris-setosa</td>\n",
       "    </tr>\n",
       "    <tr>\n",
       "      <th>7</th>\n",
       "      <td>5.0</td>\n",
       "      <td>3.4</td>\n",
       "      <td>1.5</td>\n",
       "      <td>0.2</td>\n",
       "      <td>Iris-setosa</td>\n",
       "    </tr>\n",
       "    <tr>\n",
       "      <th>8</th>\n",
       "      <td>4.4</td>\n",
       "      <td>2.9</td>\n",
       "      <td>1.4</td>\n",
       "      <td>0.2</td>\n",
       "      <td>Iris-setosa</td>\n",
       "    </tr>\n",
       "    <tr>\n",
       "      <th>9</th>\n",
       "      <td>4.9</td>\n",
       "      <td>3.1</td>\n",
       "      <td>1.5</td>\n",
       "      <td>0.1</td>\n",
       "      <td>Iris-setosa</td>\n",
       "    </tr>\n",
       "  </tbody>\n",
       "</table>\n",
       "</div>"
      ],
      "text/plain": [
       "   sepal-length  sepal-width  length  width      outcome\n",
       "0           5.1          3.5     1.4    0.2  Iris-setosa\n",
       "1           4.9          3.0     1.4    0.2  Iris-setosa\n",
       "2           4.7          3.2     1.3    0.2  Iris-setosa\n",
       "3           4.6          3.1     1.5    0.2  Iris-setosa\n",
       "4           5.0          3.6     1.4    0.2  Iris-setosa\n",
       "5           5.4          3.9     1.7    0.4  Iris-setosa\n",
       "6           4.6          3.4     1.4    0.3  Iris-setosa\n",
       "7           5.0          3.4     1.5    0.2  Iris-setosa\n",
       "8           4.4          2.9     1.4    0.2  Iris-setosa\n",
       "9           4.9          3.1     1.5    0.1  Iris-setosa"
      ]
     },
     "execution_count": 1,
     "metadata": {},
     "output_type": "execute_result"
    }
   ],
   "source": [
    "import pandas as pd\n",
    "\n",
    "columns = ['sepal-length', 'sepal-width', 'length', 'width', 'outcome']\n",
    "df = pd.read_csv('iris_data.csv', names=columns)\n",
    "\n",
    "df.head(10)"
   ]
  },
  {
   "cell_type": "code",
   "execution_count": 2,
   "metadata": {},
   "outputs": [
    {
     "data": {
      "text/plain": [
       "'/Users/abbystokes/Documents/GitHub/AST5731'"
      ]
     },
     "execution_count": 2,
     "metadata": {},
     "output_type": "execute_result"
    }
   ],
   "source": [
    "pwd\n"
   ]
  },
  {
   "cell_type": "code",
   "execution_count": 3,
   "metadata": {},
   "outputs": [
    {
     "ename": "KeyError",
     "evalue": "'petal-length'",
     "output_type": "error",
     "traceback": [
      "\u001b[0;31m---------------------------------------------------------------------------\u001b[0m",
      "\u001b[0;31mKeyError\u001b[0m                                  Traceback (most recent call last)",
      "File \u001b[0;32m/Library/Frameworks/Python.framework/Versions/3.11/lib/python3.11/site-packages/pandas/core/indexes/base.py:3790\u001b[0m, in \u001b[0;36mIndex.get_loc\u001b[0;34m(self, key)\u001b[0m\n\u001b[1;32m   3789\u001b[0m \u001b[39mtry\u001b[39;00m:\n\u001b[0;32m-> 3790\u001b[0m     \u001b[39mreturn\u001b[39;00m \u001b[39mself\u001b[39;49m\u001b[39m.\u001b[39;49m_engine\u001b[39m.\u001b[39;49mget_loc(casted_key)\n\u001b[1;32m   3791\u001b[0m \u001b[39mexcept\u001b[39;00m \u001b[39mKeyError\u001b[39;00m \u001b[39mas\u001b[39;00m err:\n",
      "File \u001b[0;32mindex.pyx:152\u001b[0m, in \u001b[0;36mpandas._libs.index.IndexEngine.get_loc\u001b[0;34m()\u001b[0m\n",
      "File \u001b[0;32mindex.pyx:181\u001b[0m, in \u001b[0;36mpandas._libs.index.IndexEngine.get_loc\u001b[0;34m()\u001b[0m\n",
      "File \u001b[0;32mpandas/_libs/hashtable_class_helper.pxi:7080\u001b[0m, in \u001b[0;36mpandas._libs.hashtable.PyObjectHashTable.get_item\u001b[0;34m()\u001b[0m\n",
      "File \u001b[0;32mpandas/_libs/hashtable_class_helper.pxi:7088\u001b[0m, in \u001b[0;36mpandas._libs.hashtable.PyObjectHashTable.get_item\u001b[0;34m()\u001b[0m\n",
      "\u001b[0;31mKeyError\u001b[0m: 'petal-length'",
      "\nThe above exception was the direct cause of the following exception:\n",
      "\u001b[0;31mKeyError\u001b[0m                                  Traceback (most recent call last)",
      "\u001b[1;32m/Users/abbystokes/Documents/GitHub/AST5731/babmi_tutorial.ipynb Cell 3\u001b[0m line \u001b[0;36m3\n\u001b[1;32m      <a href='vscode-notebook-cell:/Users/abbystokes/Documents/GitHub/AST5731/babmi_tutorial.ipynb#W2sZmlsZQ%3D%3D?line=0'>1</a>\u001b[0m \u001b[39m# plot data\u001b[39;00m\n\u001b[1;32m      <a href='vscode-notebook-cell:/Users/abbystokes/Documents/GitHub/AST5731/babmi_tutorial.ipynb#W2sZmlsZQ%3D%3D?line=1'>2</a>\u001b[0m \u001b[39mimport\u001b[39;00m \u001b[39mmatplotlib\u001b[39;00m\u001b[39m.\u001b[39;00m\u001b[39mpyplot\u001b[39;00m \u001b[39mas\u001b[39;00m \u001b[39mplt\u001b[39;00m \n\u001b[0;32m----> <a href='vscode-notebook-cell:/Users/abbystokes/Documents/GitHub/AST5731/babmi_tutorial.ipynb#W2sZmlsZQ%3D%3D?line=2'>3</a>\u001b[0m mat \u001b[39m=\u001b[39m df[\u001b[39m'\u001b[39;49m\u001b[39mpetal-length\u001b[39;49m\u001b[39m'\u001b[39;49m]\n\u001b[1;32m      <a href='vscode-notebook-cell:/Users/abbystokes/Documents/GitHub/AST5731/babmi_tutorial.ipynb#W2sZmlsZQ%3D%3D?line=3'>4</a>\u001b[0m por \u001b[39m=\u001b[39m df[\u001b[39m'\u001b[39m\u001b[39mpetal-width\u001b[39m\u001b[39m'\u001b[39m]\n\u001b[1;32m      <a href='vscode-notebook-cell:/Users/abbystokes/Documents/GitHub/AST5731/babmi_tutorial.ipynb#W2sZmlsZQ%3D%3D?line=4'>5</a>\u001b[0m plt\u001b[39m.\u001b[39mscatter(mat, por, label\u001b[39m=\u001b[39m\u001b[39m\"\u001b[39m\u001b[39msampled data\u001b[39m\u001b[39m\"\u001b[39m)\n",
      "File \u001b[0;32m/Library/Frameworks/Python.framework/Versions/3.11/lib/python3.11/site-packages/pandas/core/frame.py:3896\u001b[0m, in \u001b[0;36mDataFrame.__getitem__\u001b[0;34m(self, key)\u001b[0m\n\u001b[1;32m   3894\u001b[0m \u001b[39mif\u001b[39;00m \u001b[39mself\u001b[39m\u001b[39m.\u001b[39mcolumns\u001b[39m.\u001b[39mnlevels \u001b[39m>\u001b[39m \u001b[39m1\u001b[39m:\n\u001b[1;32m   3895\u001b[0m     \u001b[39mreturn\u001b[39;00m \u001b[39mself\u001b[39m\u001b[39m.\u001b[39m_getitem_multilevel(key)\n\u001b[0;32m-> 3896\u001b[0m indexer \u001b[39m=\u001b[39m \u001b[39mself\u001b[39;49m\u001b[39m.\u001b[39;49mcolumns\u001b[39m.\u001b[39;49mget_loc(key)\n\u001b[1;32m   3897\u001b[0m \u001b[39mif\u001b[39;00m is_integer(indexer):\n\u001b[1;32m   3898\u001b[0m     indexer \u001b[39m=\u001b[39m [indexer]\n",
      "File \u001b[0;32m/Library/Frameworks/Python.framework/Versions/3.11/lib/python3.11/site-packages/pandas/core/indexes/base.py:3797\u001b[0m, in \u001b[0;36mIndex.get_loc\u001b[0;34m(self, key)\u001b[0m\n\u001b[1;32m   3792\u001b[0m     \u001b[39mif\u001b[39;00m \u001b[39misinstance\u001b[39m(casted_key, \u001b[39mslice\u001b[39m) \u001b[39mor\u001b[39;00m (\n\u001b[1;32m   3793\u001b[0m         \u001b[39misinstance\u001b[39m(casted_key, abc\u001b[39m.\u001b[39mIterable)\n\u001b[1;32m   3794\u001b[0m         \u001b[39mand\u001b[39;00m \u001b[39many\u001b[39m(\u001b[39misinstance\u001b[39m(x, \u001b[39mslice\u001b[39m) \u001b[39mfor\u001b[39;00m x \u001b[39min\u001b[39;00m casted_key)\n\u001b[1;32m   3795\u001b[0m     ):\n\u001b[1;32m   3796\u001b[0m         \u001b[39mraise\u001b[39;00m InvalidIndexError(key)\n\u001b[0;32m-> 3797\u001b[0m     \u001b[39mraise\u001b[39;00m \u001b[39mKeyError\u001b[39;00m(key) \u001b[39mfrom\u001b[39;00m \u001b[39merr\u001b[39;00m\n\u001b[1;32m   3798\u001b[0m \u001b[39mexcept\u001b[39;00m \u001b[39mTypeError\u001b[39;00m:\n\u001b[1;32m   3799\u001b[0m     \u001b[39m# If we have a listlike key, _check_indexing_error will raise\u001b[39;00m\n\u001b[1;32m   3800\u001b[0m     \u001b[39m#  InvalidIndexError. Otherwise we fall through and re-raise\u001b[39;00m\n\u001b[1;32m   3801\u001b[0m     \u001b[39m#  the TypeError.\u001b[39;00m\n\u001b[1;32m   3802\u001b[0m     \u001b[39mself\u001b[39m\u001b[39m.\u001b[39m_check_indexing_error(key)\n",
      "\u001b[0;31mKeyError\u001b[0m: 'petal-length'"
     ]
    }
   ],
   "source": [
    "# plot data\n",
    "import matplotlib.pyplot as plt \n",
    "mat = df['petal-length']\n",
    "por = df['petal-width']\n",
    "plt.scatter(mat, por, label=\"sampled data\")\n",
    "plt.legend(loc=0)"
   ]
  },
  {
   "cell_type": "code",
   "execution_count": null,
   "metadata": {},
   "outputs": [],
   "source": [
    "# linear regression\n",
    "\n",
    "from sklearn.linear_model import LinearRegression\n",
    "\n",
    "length, width = df[\"length\"].values, df[\"width\"].values\n",
    "\n",
    "linear_model = LinearRegression().fit(mat.reshape(-1, 1), por)\n",
    "predict_line = linear_model.predict(mat.reshape(-1, 1))"
   ]
  },
  {
   "cell_type": "code",
   "execution_count": null,
   "metadata": {},
   "outputs": [
    {
     "name": "stdout",
     "output_type": "stream",
     "text": [
      "[0.41641913] -0.3665140452167295\n"
     ]
    },
    {
     "data": {
      "image/png": "[encoded data removed]",
      "text/plain": [
       "<Figure size 640x480 with 1 Axes>"
      ]
     },
     "metadata": {},
     "output_type": "display_data"
    }
   ],
   "source": [
    "#plot line\n",
    "plt.scatter(mat, por, label=\"sampled data\")\n",
    "plt.plot(mat, predict_line, label=\"regression line\", lw=2.0, color=\"red\")\n",
    "plt.xlabel(\"Petal Length\")\n",
    "plt.ylabel(\"Petal Width\")\n",
    "plt.legend(loc=0)\n",
    "\n",
    "print(linear_model.coef_, \n",
    "linear_model.intercept_)"
   ]
  },
  {
   "cell_type": "code",
   "execution_count": null,
   "metadata": {},
   "outputs": [],
   "source": [
    "import bambi as bmb\n",
    "\n",
    "gauss_model = bmb.Model('length ~ width', data=df)"
   ]
  },
  {
   "cell_type": "code",
   "execution_count": null,
   "metadata": {},
   "outputs": [
    {
     "name": "stdout",
     "output_type": "stream",
     "text": [
      "Collecting bambi\n",
      "  Obtaining dependency information for bambi from https://files.pythonhosted.org/packages/69/91/9ab76ca5c16433b9173ff74d5cabc83538dfaa3755878deaf47b26bbb305/bambi-0.12.0-py3-none-any.whl.metadata\n",
      "  Downloading bambi-0.12.0-py3-none-any.whl.metadata (7.3 kB)\n",
      "Requirement already satisfied: arviz>=0.12.0 in /Library/Frameworks/Python.framework/Versions/3.11/lib/python3.11/site-packages (from bambi) (0.16.1)\n",
      "Collecting formulae>=0.5.0 (from bambi)\n",
      "  Obtaining dependency information for formulae>=0.5.0 from https://files.pythonhosted.org/packages/ad/2c/6801494a1ea4d4496699fd27f92cee9ff54dadc5e557d4d0e5cb1f97b626/formulae-0.5.1-py3-none-any.whl.metadata\n",
      "  Downloading formulae-0.5.1-py3-none-any.whl.metadata (4.5 kB)\n",
      "Requirement already satisfied: graphviz in /Library/Frameworks/Python.framework/Versions/3.11/lib/python3.11/site-packages (from bambi) (0.20.1)\n",
      "Requirement already satisfied: numpy>1.22 in /Library/Frameworks/Python.framework/Versions/3.11/lib/python3.11/site-packages (from bambi) (1.25.2)\n",
      "Requirement already satisfied: pandas>=1.0.0 in /Library/Frameworks/Python.framework/Versions/3.11/lib/python3.11/site-packages (from bambi) (2.1.0)\n",
      "Collecting pymc>=5.5.0 (from bambi)\n",
      "  Obtaining dependency information for pymc>=5.5.0 from https://files.pythonhosted.org/packages/45/89/341da7baee2d8e6e2654e50ebc4d1dca49c762a8a132b6cd6cb1eae1fa80/pymc-5.9.0-py3-none-any.whl.metadata\n",
      "  Downloading pymc-5.9.0-py3-none-any.whl.metadata (10 kB)\n",
      "Collecting pytensor>=2.12.3 (from bambi)\n",
      "  Downloading pytensor-2.17.3.tar.gz (3.5 MB)\n",
      "\u001b[2K     \u001b[90m━━━━━━━━━━━━━━━━━━━━━━━━━━━━━━━━━━━━━━━━\u001b[0m \u001b[32m3.5/3.5 MB\u001b[0m \u001b[31m23.2 MB/s\u001b[0m eta \u001b[36m0:00:00\u001b[0m00:01\u001b[0m00:01\u001b[0m\n",
      "\u001b[?25h  Installing build dependencies ... \u001b[?25ldone\n",
      "\u001b[?25h  Getting requirements to build wheel ... \u001b[?25ldone\n",
      "\u001b[?25h  Installing backend dependencies ... \u001b[?25ldone\n",
      "\u001b[?25h  Preparing metadata (pyproject.toml) ... \u001b[?25ldone\n",
      "\u001b[?25hRequirement already satisfied: scipy>=1.7.0 in /Library/Frameworks/Python.framework/Versions/3.11/lib/python3.11/site-packages (from bambi) (1.11.2)\n",
      "Requirement already satisfied: setuptools>=60.0.0 in /Library/Frameworks/Python.framework/Versions/3.11/lib/python3.11/site-packages (from arviz>=0.12.0->bambi) (65.5.0)\n",
      "Requirement already satisfied: matplotlib>=3.2 in /Library/Frameworks/Python.framework/Versions/3.11/lib/python3.11/site-packages (from arviz>=0.12.0->bambi) (3.7.3)\n",
      "Requirement already satisfied: packaging in /Users/abbystokes/Library/Python/3.11/lib/python/site-packages (from arviz>=0.12.0->bambi) (23.1)\n",
      "Requirement already satisfied: xarray>=0.21.0 in /Library/Frameworks/Python.framework/Versions/3.11/lib/python3.11/site-packages (from arviz>=0.12.0->bambi) (2023.9.0)\n",
      "Requirement already satisfied: h5netcdf>=1.0.2 in /Library/Frameworks/Python.framework/Versions/3.11/lib/python3.11/site-packages (from arviz>=0.12.0->bambi) (1.2.0)\n",
      "Requirement already satisfied: typing-extensions>=4.1.0 in /Library/Frameworks/Python.framework/Versions/3.11/lib/python3.11/site-packages (from arviz>=0.12.0->bambi) (4.8.0)\n",
      "Requirement already satisfied: xarray-einstats>=0.3 in /Library/Frameworks/Python.framework/Versions/3.11/lib/python3.11/site-packages (from arviz>=0.12.0->bambi) (0.6.0)\n",
      "Requirement already satisfied: python-dateutil>=2.8.2 in /Users/abbystokes/Library/Python/3.11/lib/python/site-packages (from pandas>=1.0.0->bambi) (2.8.2)\n",
      "Requirement already satisfied: pytz>=2020.1 in /Library/Frameworks/Python.framework/Versions/3.11/lib/python3.11/site-packages (from pandas>=1.0.0->bambi) (2023.3.post1)\n",
      "Requirement already satisfied: tzdata>=2022.1 in /Library/Frameworks/Python.framework/Versions/3.11/lib/python3.11/site-packages (from pandas>=1.0.0->bambi) (2023.3)\n",
      "Collecting cachetools>=4.2.1 (from pymc>=5.5.0->bambi)\n",
      "  Obtaining dependency information for cachetools>=4.2.1 from https://files.pythonhosted.org/packages/a9/c9/c8a7710f2cedcb1db9224fdd4d8307c9e48cbddc46c18b515fefc0f1abbe/cachetools-5.3.1-py3-none-any.whl.metadata\n",
      "  Downloading cachetools-5.3.1-py3-none-any.whl.metadata (5.2 kB)\n",
      "Collecting cloudpickle (from pymc>=5.5.0->bambi)\n",
      "  Obtaining dependency information for cloudpickle from https://files.pythonhosted.org/packages/96/43/dae06432d0c4b1dc9e9149ad37b4ca8384cf6eb7700cd9215b177b914f0a/cloudpickle-3.0.0-py3-none-any.whl.metadata\n",
      "  Downloading cloudpickle-3.0.0-py3-none-any.whl.metadata (7.0 kB)\n",
      "Collecting fastprogress>=0.2.0 (from pymc>=5.5.0->bambi)\n",
      "  Downloading fastprogress-1.0.3-py3-none-any.whl (12 kB)\n",
      "Requirement already satisfied: filelock in /Library/Frameworks/Python.framework/Versions/3.11/lib/python3.11/site-packages (from pytensor>=2.12.3->bambi) (3.12.4)\n",
      "Collecting etuples (from pytensor>=2.12.3->bambi)\n",
      "  Downloading etuples-0.3.9.tar.gz (30 kB)\n",
      "  Installing build dependencies ... \u001b[?25ldone\n",
      "\u001b[?25h  Getting requirements to build wheel ... \u001b[?25ldone\n",
      "\u001b[?25h  Preparing metadata (pyproject.toml) ... \u001b[?25ldone\n",
      "\u001b[?25hCollecting logical-unification (from pytensor>=2.12.3->bambi)\n",
      "  Downloading logical-unification-0.4.6.tar.gz (31 kB)\n",
      "  Installing build dependencies ... \u001b[?25ldone\n",
      "\u001b[?25h  Getting requirements to build wheel ... \u001b[?25ldone\n",
      "\u001b[?25h  Preparing metadata (pyproject.toml) ... \u001b[?25ldone\n",
      "\u001b[?25hCollecting miniKanren (from pytensor>=2.12.3->bambi)\n",
      "  Downloading miniKanren-1.0.3.tar.gz (41 kB)\n",
      "\u001b[2K     \u001b[90m━━━━━━━━━━━━━━━━━━━━━━━━━━━━━━━━━━━━━━━━\u001b[0m \u001b[32m41.3/41.3 kB\u001b[0m \u001b[31m6.0 MB/s\u001b[0m eta \u001b[36m0:00:00\u001b[0m\n",
      "\u001b[?25h  Installing build dependencies ... \u001b[?25ldone\n",
      "\u001b[?25h  Getting requirements to build wheel ... \u001b[?25ldone\n",
      "\u001b[?25h  Preparing metadata (pyproject.toml) ... \u001b[?25ldone\n",
      "\u001b[?25hCollecting cons (from pytensor>=2.12.3->bambi)\n",
      "  Downloading cons-0.4.6.tar.gz (26 kB)\n",
      "  Installing build dependencies ... \u001b[?25ldone\n",
      "\u001b[?25h  Getting requirements to build wheel ... \u001b[?25ldone\n",
      "\u001b[?25h  Preparing metadata (pyproject.toml) ... \u001b[?25ldone\n",
      "\u001b[?25hRequirement already satisfied: h5py in /Library/Frameworks/Python.framework/Versions/3.11/lib/python3.11/site-packages (from h5netcdf>=1.0.2->arviz>=0.12.0->bambi) (3.10.0)\n",
      "Requirement already satisfied: contourpy>=1.0.1 in /Library/Frameworks/Python.framework/Versions/3.11/lib/python3.11/site-packages (from matplotlib>=3.2->arviz>=0.12.0->bambi) (1.1.0)\n",
      "Requirement already satisfied: cycler>=0.10 in /Library/Frameworks/Python.framework/Versions/3.11/lib/python3.11/site-packages (from matplotlib>=3.2->arviz>=0.12.0->bambi) (0.11.0)\n",
      "Requirement already satisfied: fonttools>=4.22.0 in /Library/Frameworks/Python.framework/Versions/3.11/lib/python3.11/site-packages (from matplotlib>=3.2->arviz>=0.12.0->bambi) (4.42.1)\n",
      "Requirement already satisfied: kiwisolver>=1.0.1 in /Library/Frameworks/Python.framework/Versions/3.11/lib/python3.11/site-packages (from matplotlib>=3.2->arviz>=0.12.0->bambi) (1.4.5)\n",
      "Requirement already satisfied: pillow>=6.2.0 in /Library/Frameworks/Python.framework/Versions/3.11/lib/python3.11/site-packages (from matplotlib>=3.2->arviz>=0.12.0->bambi) (10.0.0)\n",
      "Requirement already satisfied: pyparsing>=2.3.1 in /Library/Frameworks/Python.framework/Versions/3.11/lib/python3.11/site-packages (from matplotlib>=3.2->arviz>=0.12.0->bambi) (3.1.1)\n",
      "Requirement already satisfied: six>=1.5 in /Users/abbystokes/Library/Python/3.11/lib/python/site-packages (from python-dateutil>=2.8.2->pandas>=1.0.0->bambi) (1.16.0)\n",
      "Requirement already satisfied: toolz in /Library/Frameworks/Python.framework/Versions/3.11/lib/python3.11/site-packages (from logical-unification->pytensor>=2.12.3->bambi) (0.12.0)\n",
      "Collecting multipledispatch (from logical-unification->pytensor>=2.12.3->bambi)\n",
      "  Obtaining dependency information for multipledispatch from https://files.pythonhosted.org/packages/51/c0/00c9809d8b9346eb238a6bbd5f83e846a4ce4503da94a4c08cb7284c325b/multipledispatch-1.0.0-py3-none-any.whl.metadata\n",
      "  Downloading multipledispatch-1.0.0-py3-none-any.whl.metadata (3.8 kB)\n",
      "Downloading bambi-0.12.0-py3-none-any.whl (79 kB)\n",
      "\u001b[2K   \u001b[90m━━━━━━━━━━━━━━━━━━━━━━━━━━━━━━━━━━━━━━━━\u001b[0m \u001b[32m79.4/79.4 kB\u001b[0m \u001b[31m19.2 MB/s\u001b[0m eta \u001b[36m0:00:00\u001b[0m\n",
      "\u001b[?25hDownloading formulae-0.5.1-py3-none-any.whl (47 kB)\n",
      "\u001b[2K   \u001b[90m━━━━━━━━━━━━━━━━━━━━━━━━━━━━━━━━━━━━━━━━\u001b[0m \u001b[32m47.6/47.6 kB\u001b[0m \u001b[31m8.5 MB/s\u001b[0m eta \u001b[36m0:00:00\u001b[0m\n",
      "\u001b[?25hDownloading pymc-5.9.0-py3-none-any.whl (469 kB)\n",
      "\u001b[2K   \u001b[90m━━━━━━━━━━━━━━━━━━━━━━━━━━━━━━━━━━━━━━━━\u001b[0m \u001b[32m469.1/469.1 kB\u001b[0m \u001b[31m38.9 MB/s\u001b[0m eta \u001b[36m0:00:00\u001b[0m\n",
      "\u001b[?25hDownloading cachetools-5.3.1-py3-none-any.whl (9.3 kB)\n",
      "Downloading cloudpickle-3.0.0-py3-none-any.whl (20 kB)\n",
      "Downloading multipledispatch-1.0.0-py3-none-any.whl (12 kB)\n",
      "Building wheels for collected packages: pytensor, cons, logical-unification, etuples, miniKanren\n",
      "  Building wheel for pytensor (pyproject.toml) ... \u001b[?25ldone\n",
      "\u001b[?25h  Created wheel for pytensor: filename=pytensor-2.17.3-cp311-cp311-macosx_10_9_universal2.whl size=1371520 sha256=31be5f72116cc88d80c0afc85c84b466a5a2306b23a729d48822cbcdeb4c31e0\n",
      "  Stored in directory: /Users/abbystokes/Library/Caches/pip/wheels/e4/28/13/7b1329eff5a58ed585e20d819ffb8897ada61ac7d466624d9e\n",
      "  Building wheel for cons (pyproject.toml) ... \u001b[?25ldone\n",
      "\u001b[?25h  Created wheel for cons: filename=cons-0.4.6-py3-none-any.whl size=9098 sha256=93acc30588fb71fea107f86963f3d70ae8050b638ab15882f781100fb989eab4\n",
      "  Stored in directory: /Users/abbystokes/Library/Caches/pip/wheels/95/8f/45/fe0a5b5e232401da571d514eb545833fbe220993ac8336c94e\n",
      "  Building wheel for logical-unification (pyproject.toml) ... \u001b[?25ldone\n",
      "\u001b[?25h  Created wheel for logical-unification: filename=logical_unification-0.4.6-py3-none-any.whl size=13910 sha256=52d924f351481d544b09ab2d9db65056ac3f14fa56b24d104f4f9d8cd06bfe83\n",
      "  Stored in directory: /Users/abbystokes/Library/Caches/pip/wheels/b8/34/a9/c11a21ef1f1b6d2e5ae518dd5d28c0bd2b131c5d6e5d4417c3\n",
      "  Building wheel for etuples (pyproject.toml) ... \u001b[?25ldone\n",
      "\u001b[?25h  Created wheel for etuples: filename=etuples-0.3.9-py3-none-any.whl size=12617 sha256=68e5c803ffa86435f81e32eba43f92dda918da1d62a243a411458e4045adc20b\n",
      "  Stored in directory: /Users/abbystokes/Library/Caches/pip/wheels/11/5a/ad/ebef6395e95b1dfd742afb44db6d92bd5e8921a572b9ff8618\n",
      "  Building wheel for miniKanren (pyproject.toml) ... \u001b[?25ldone\n",
      "\u001b[?25h  Created wheel for miniKanren: filename=miniKanren-1.0.3-py3-none-any.whl size=23908 sha256=bc0c46d13018378e210082516f10dfec517087564524bb0feb596f9910f747d6\n",
      "  Stored in directory: /Users/abbystokes/Library/Caches/pip/wheels/8d/86/58/7da4a186a7bb721885e4fb811a54b5a0065b0c624a5deb1259\n",
      "Successfully built pytensor cons logical-unification etuples miniKanren\n",
      "Installing collected packages: multipledispatch, logical-unification, fastprogress, cloudpickle, cachetools, cons, formulae, etuples, miniKanren, pytensor, pymc, bambi\n",
      "Successfully installed bambi-0.12.0 cachetools-5.3.1 cloudpickle-3.0.0 cons-0.4.6 etuples-0.3.9 fastprogress-1.0.3 formulae-0.5.1 logical-unification-0.4.6 miniKanren-1.0.3 multipledispatch-1.0.0 pymc-5.9.0 pytensor-2.17.3\n",
      "\n",
      "\u001b[1m[\u001b[0m\u001b[34;49mnotice\u001b[0m\u001b[1;39;49m]\u001b[0m\u001b[39;49m A new release of pip is available: \u001b[0m\u001b[31;49m23.2.1\u001b[0m\u001b[39;49m -> \u001b[0m\u001b[32;49m23.3.1\u001b[0m\n",
      "\u001b[1m[\u001b[0m\u001b[34;49mnotice\u001b[0m\u001b[1;39;49m]\u001b[0m\u001b[39;49m To update, run: \u001b[0m\u001b[32;49mpip install --upgrade pip\u001b[0m\n",
      "Note: you may need to restart the kernel to use updated packages.\n"
     ]
    }
   ],
   "source": [
    "pip install bambi"
   ]
  },
  {
   "cell_type": "code",
   "execution_count": null,
   "metadata": {},
   "outputs": [
    {
     "name": "stderr",
     "output_type": "stream",
     "text": [
      "Auto-assigning NUTS sampler...\n",
      "Initializing NUTS using jitter+adapt_diag...\n",
      "Multiprocess sampling (4 chains in 4 jobs)\n",
      "NUTS: [length_sigma, Intercept, width]\n"
     ]
    },
    {
     "data": {
      "text/html": [
       "\n",
       "<style>\n",
       "    /* Turns off some styling */\n",
       "    progress {\n",
       "        /* gets rid of default border in Firefox and Opera. */\n",
       "        border: none;\n",
       "        /* Needs to be in here for Safari polyfill so background images work as expected. */\n",
       "        background-size: auto;\n",
       "    }\n",
       "    progress:not([value]), progress:not([value])::-webkit-progress-bar {\n",
       "        background: repeating-linear-gradient(45deg, #7e7e7e, #7e7e7e 10px, #5c5c5c 10px, #5c5c5c 20px);\n",
       "    }\n",
       "    .progress-bar-interrupted, .progress-bar-interrupted::-webkit-progress-bar {\n",
       "        background: #F44336;\n",
       "    }\n",
       "</style>\n"
      ],
      "text/plain": [
       "<IPython.core.display.HTML object>"
      ]
     },
     "metadata": {},
     "output_type": "display_data"
    },
    {
     "data": {
      "text/html": [
       "\n",
       "    <div>\n",
       "      <progress value='8000' class='' max='8000' style='width:300px; height:20px; vertical-align: middle;'></progress>\n",
       "      100.00% [8000/8000 00:00&lt;00:00 Sampling 4 chains, 0 divergences]\n",
       "    </div>\n",
       "    "
      ],
      "text/plain": [
       "<IPython.core.display.HTML object>"
      ]
     },
     "metadata": {},
     "output_type": "display_data"
    },
    {
     "name": "stderr",
     "output_type": "stream",
     "text": [
      "Sampling 4 chains for 1_000 tune and 1_000 draw iterations (4_000 + 4_000 draws total) took 1 seconds.\n"
     ]
    },
    {
     "ename": "TypeError",
     "evalue": "Model.predict() got an unexpected keyword argument 'draws'",
     "output_type": "error",
     "traceback": [
      "\u001b[0;31m---------------------------------------------------------------------------\u001b[0m",
      "\u001b[0;31mTypeError\u001b[0m                                 Traceback (most recent call last)",
      "\u001b[1;32mUntitled-1.ipynb Cell 8\u001b[0m line \u001b[0;36m5\n\u001b[1;32m      <a href='vscode-notebook-cell:Untitled-1.ipynb?jupyter-notebook#W5sdW50aXRsZWQ%3D?line=0'>1</a>\u001b[0m \u001b[39m# use PyMC3 to draw 1000 samples from each of 4 chains\u001b[39;00m\n\u001b[1;32m      <a href='vscode-notebook-cell:Untitled-1.ipynb?jupyter-notebook#W5sdW50aXRsZWQ%3D?line=1'>2</a>\u001b[0m \n\u001b[1;32m      <a href='vscode-notebook-cell:Untitled-1.ipynb?jupyter-notebook#W5sdW50aXRsZWQ%3D?line=2'>3</a>\u001b[0m \u001b[39m# Fit the model using 1000 on each of 4 chains\u001b[39;00m\n\u001b[1;32m      <a href='vscode-notebook-cell:Untitled-1.ipynb?jupyter-notebook#W5sdW50aXRsZWQ%3D?line=3'>4</a>\u001b[0m gauss_fitted \u001b[39m=\u001b[39m gauss_model\u001b[39m.\u001b[39mfit(draws\u001b[39m=\u001b[39m\u001b[39m1000\u001b[39m, chains\u001b[39m=\u001b[39m\u001b[39m4\u001b[39m)\n\u001b[0;32m----> <a href='vscode-notebook-cell:Untitled-1.ipynb?jupyter-notebook#W5sdW50aXRsZWQ%3D?line=4'>5</a>\u001b[0m gauss_model\u001b[39m.\u001b[39;49mpredict(gauss_fitted, kind\u001b[39m=\u001b[39;49m\u001b[39m\"\u001b[39;49m\u001b[39mpps\u001b[39;49m\u001b[39m\"\u001b[39;49m, draws\u001b[39m=\u001b[39;49m\u001b[39m1000\u001b[39;49m)\n",
      "\u001b[0;31mTypeError\u001b[0m: Model.predict() got an unexpected keyword argument 'draws'"
     ]
    }
   ],
   "source": [
    "# use PyMC3 to draw 1000 samples from each of 4 chains\n",
    "\n",
    "# Fit the model using 1000 on each of 4 chains\n",
    "gauss_fitted = gauss_model.fit(draws=1000, chains=4)\n",
    "gauss_model.predict(gauss_fitted, kind=\"pps\", draws=1000)"
   ]
  },
  {
   "cell_type": "code",
   "execution_count": null,
   "metadata": {},
   "outputs": [],
   "source": [
    "# Analyze distribution of coeff\n",
    "import arviz as az\n",
    "\n",
    "az.plot_trace(gauss_fitted, var_names=[\"Intercept\", \"mat\"])\n",
    "\n",
    "print(gauss_fitted.posterior.mat.values.mean(),gauss_fitted.posterior.Intercept.values.mean())"
   ]
  },
  {
   "cell_type": "code",
   "execution_count": null,
   "metadata": {},
   "outputs": [],
   "source": [
    "# plot regression lines\n",
    "\n",
    "# Plot Data\n",
    "plt.scatter(mat, por, label=\"data\")\n",
    "\n",
    "# Values of x-axis\n",
    "x_range = np.linspace(min(mat), max(mat), 2000)\n",
    "\n",
    "# Plot sample predictions\n",
    "for i in range(10):\n",
    "    y_pred = (fitted.posterior.mat.values[0, i] * x_range \n",
    "              + gauss_fitted.posterior.Intercept.values[0, i])\n",
    "    \n",
    "    plt.plot(x_range, y_pred,\n",
    "        color=\"green\",linestyle=\"--\",\n",
    "        label=\"Mean regression line\"\n",
    "        )"
   ]
  },
  {
   "cell_type": "code",
   "execution_count": null,
   "metadata": {},
   "outputs": [],
   "source": [
    "# use mean of beta to get single estimate for y\n",
    "\n",
    "# Plot Data\n",
    "plt.scatter(mat, por, label=\"data\")\n",
    "\n",
    "# Values of x-axis\n",
    "x_range = np.linspace(min(mat), max(mat), 2000)\n",
    "\n",
    "y_pred = fitted.posterior.mat.values.mean() * x_range + fitted.posterior.Intercept.values.mean()\n",
    "\n",
    "# Plot mean prediction    \n",
    "plt.plot(x_range, y_pred,\n",
    "        color=\"black\",\n",
    "        label=\"Mean regression line\",\n",
    "        linewidth = 3\n",
    "        )\n",
    "\n",
    "# Plot sample predictions"
   ]
  },
  {
   "cell_type": "code",
   "execution_count": null,
   "metadata": {},
   "outputs": [],
   "source": [
    "#plot distirbution of all predictions\n",
    "az.plot_ppc(gauss_fitted)"
   ]
  },
  {
   "cell_type": "code",
   "execution_count": null,
   "metadata": {},
   "outputs": [],
   "source": [
    "#Plot high density interval of predictions\n",
    "\n",
    "# Plot Data\n",
    "plt.scatter(mat, por, label=\"data\")\n",
    "\n",
    "x_range = np.linspace(min(mat), max(mat), 2000)\n",
    "y_pred = fitted.posterior.mat.values.mean() * x_range + fitted.posterior.Intercept.values.mean()\n",
    "\n",
    "# Plot mean prediction  \n",
    "plt.plot(x_range, y_pred,color=\"black\", label=\"Mean regression line\")\n",
    "        \n",
    "# Plot HDIs\n",
    "for interval in [0.38, 0.68]:\n",
    "    az.plot_hdi(mat, fitted.posterior_predictive.por, \n",
    "                hdi_prob=interval, color=\"firebrick\")   #HDI means high density interval\n",
    "\n",
    "plt.legend(loc=0)"
   ]
  }
 ],
 "metadata": {
  "kernelspec": {
   "display_name": "Python 3",
   "language": "python",
   "name": "python3"
  },
  "language_info": {
   "codemirror_mode": {
    "name": "ipython",
    "version": 3
   },
   "file_extension": ".py",
   "mimetype": "text/x-python",
   "name": "python",
   "nbconvert_exporter": "python",
   "pygments_lexer": "ipython3",
   "version": "3.11.4"
  },
  "orig_nbformat": 4
 },
 "nbformat": 4,
 "nbformat_minor": 2
}
